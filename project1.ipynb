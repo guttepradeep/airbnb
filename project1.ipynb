{
 "cells": [
  {
   "cell_type": "code",
   "execution_count": 2,
   "id": "fbd279e2",
   "metadata": {},
   "outputs": [],
   "source": [
    "import pandas as pd\n",
    "import numpy as np\n",
    "import matplotlib.pyplot as plt\n",
    "import seaborn as sns"
   ]
  },
  {
   "cell_type": "code",
   "execution_count": 3,
   "id": "87b0b912",
   "metadata": {},
   "outputs": [],
   "source": [
    "df = pd.read_json('sample_airbnb.json')"
   ]
  },
  {
   "cell_type": "code",
   "execution_count": 5,
   "id": "9b4c7cf2",
   "metadata": {},
   "outputs": [],
   "source": [
    "df.to_csv(\"sample_airbnb.csv\", index=False)"
   ]
  },
  {
   "cell_type": "code",
   "execution_count": 6,
   "id": "3660d782",
   "metadata": {
    "scrolled": true
   },
   "outputs": [
    {
     "data": {
      "text/html": [
       "<div>\n",
       "<style scoped>\n",
       "    .dataframe tbody tr th:only-of-type {\n",
       "        vertical-align: middle;\n",
       "    }\n",
       "\n",
       "    .dataframe tbody tr th {\n",
       "        vertical-align: top;\n",
       "    }\n",
       "\n",
       "    .dataframe thead th {\n",
       "        text-align: right;\n",
       "    }\n",
       "</style>\n",
       "<table border=\"1\" class=\"dataframe\">\n",
       "  <thead>\n",
       "    <tr style=\"text-align: right;\">\n",
       "      <th></th>\n",
       "      <th>_id</th>\n",
       "      <th>listing_url</th>\n",
       "      <th>name</th>\n",
       "      <th>summary</th>\n",
       "      <th>space</th>\n",
       "      <th>description</th>\n",
       "      <th>neighborhood_overview</th>\n",
       "      <th>notes</th>\n",
       "      <th>transit</th>\n",
       "      <th>access</th>\n",
       "      <th>...</th>\n",
       "      <th>guests_included</th>\n",
       "      <th>images</th>\n",
       "      <th>host</th>\n",
       "      <th>address</th>\n",
       "      <th>availability</th>\n",
       "      <th>review_scores</th>\n",
       "      <th>reviews</th>\n",
       "      <th>weekly_price</th>\n",
       "      <th>monthly_price</th>\n",
       "      <th>reviews_per_month</th>\n",
       "    </tr>\n",
       "  </thead>\n",
       "  <tbody>\n",
       "    <tr>\n",
       "      <th>0</th>\n",
       "      <td>1003530</td>\n",
       "      <td>https://www.airbnb.com/rooms/1003530</td>\n",
       "      <td>New York City - Upper West Side Apt</td>\n",
       "      <td></td>\n",
       "      <td>Murphy bed, optional second bedroom available....</td>\n",
       "      <td>Murphy bed, optional second bedroom available....</td>\n",
       "      <td>Great neighborhood - many terrific restaurants...</td>\n",
       "      <td>My cat, Samantha, are in and out during the su...</td>\n",
       "      <td>Conveniently located near 1, 2, 3, B &amp; C subwa...</td>\n",
       "      <td>New York City!</td>\n",
       "      <td>...</td>\n",
       "      <td>1</td>\n",
       "      <td>{'thumbnail_url': '', 'medium_url': '', 'pictu...</td>\n",
       "      <td>{'host_id': '454250', 'host_url': 'https://www...</td>\n",
       "      <td>{'street': 'New York, NY, United States', 'sub...</td>\n",
       "      <td>{'availability_30': 0, 'availability_60': 0, '...</td>\n",
       "      <td>{'review_scores_accuracy': 10, 'review_scores_...</td>\n",
       "      <td>[{'_id': '4351675', 'date': '2013-04-29 04:00:...</td>\n",
       "      <td>NaN</td>\n",
       "      <td>NaN</td>\n",
       "      <td>NaN</td>\n",
       "    </tr>\n",
       "    <tr>\n",
       "      <th>1</th>\n",
       "      <td>10133554</td>\n",
       "      <td>https://www.airbnb.com/rooms/10133554</td>\n",
       "      <td>Double and triple rooms Blue mosque</td>\n",
       "      <td></td>\n",
       "      <td>We are on the central city  Blue mosque 5 minu...</td>\n",
       "      <td>We are on the central city  Blue mosque 5 minu...</td>\n",
       "      <td>Cankurtaran mahallesi akbıyık caddesi no 22 Su...</td>\n",
       "      <td></td>\n",
       "      <td>Tram 5 minutes  metro 10 minutes  Bus 10 minutes</td>\n",
       "      <td>We have bathroom,wc,İnternet in rooms and unde...</td>\n",
       "      <td>...</td>\n",
       "      <td>1</td>\n",
       "      <td>{'thumbnail_url': '', 'medium_url': '', 'pictu...</td>\n",
       "      <td>{'host_id': '52004703', 'host_url': 'https://w...</td>\n",
       "      <td>{'street': 'Fatih , İstanbul, Turkey', 'suburb...</td>\n",
       "      <td>{'availability_30': 30, 'availability_60': 60,...</td>\n",
       "      <td>{'review_scores_accuracy': 9, 'review_scores_c...</td>\n",
       "      <td>[{'_id': '149469150', 'date': '2017-05-04 04:0...</td>\n",
       "      <td>NaN</td>\n",
       "      <td>NaN</td>\n",
       "      <td>NaN</td>\n",
       "    </tr>\n",
       "    <tr>\n",
       "      <th>2</th>\n",
       "      <td>10059872</td>\n",
       "      <td>https://www.airbnb.com/rooms/10059872</td>\n",
       "      <td>Soho Cozy, Spacious and Convenient</td>\n",
       "      <td>Clean, fully furnish, Spacious 1 bedroom flat ...</td>\n",
       "      <td></td>\n",
       "      <td>Clean, fully furnish, Spacious 1 bedroom flat ...</td>\n",
       "      <td></td>\n",
       "      <td></td>\n",
       "      <td></td>\n",
       "      <td></td>\n",
       "      <td>...</td>\n",
       "      <td>1</td>\n",
       "      <td>{'thumbnail_url': '', 'medium_url': '', 'pictu...</td>\n",
       "      <td>{'host_id': '51624384', 'host_url': 'https://w...</td>\n",
       "      <td>{'street': 'Hong Kong, Hong Kong Island, Hong ...</td>\n",
       "      <td>{'availability_30': 0, 'availability_60': 0, '...</td>\n",
       "      <td>{'review_scores_accuracy': 10, 'review_scores_...</td>\n",
       "      <td>[{'_id': '56904633', 'date': '2015-12-19 05:00...</td>\n",
       "      <td>5000.0</td>\n",
       "      <td>NaN</td>\n",
       "      <td>NaN</td>\n",
       "    </tr>\n",
       "    <tr>\n",
       "      <th>3</th>\n",
       "      <td>10084023</td>\n",
       "      <td>https://www.airbnb.com/rooms/10084023</td>\n",
       "      <td>City center private room with bed</td>\n",
       "      <td>House is located 5mins walk from Sham Shui Po ...</td>\n",
       "      <td>The house is old fashion type, and paint the w...</td>\n",
       "      <td>House is located 5mins walk from Sham Shui Po ...</td>\n",
       "      <td>Cheapest food, electronic device, clothing and...</td>\n",
       "      <td>Deposit of $1000 will be charged and will retu...</td>\n",
       "      <td>Close to 3 different MTR Station, Sham shui Po...</td>\n",
       "      <td>Living Room , Kitchen and Toilet, All cooking ...</td>\n",
       "      <td>...</td>\n",
       "      <td>1</td>\n",
       "      <td>{'thumbnail_url': '', 'medium_url': '', 'pictu...</td>\n",
       "      <td>{'host_id': '51744313', 'host_url': 'https://w...</td>\n",
       "      <td>{'street': 'Hong Kong , 九龍, Hong Kong', 'subur...</td>\n",
       "      <td>{'availability_30': 14, 'availability_60': 24,...</td>\n",
       "      <td>{'review_scores_accuracy': 10, 'review_scores_...</td>\n",
       "      <td>[{'_id': '57191745', 'date': '2015-12-22 05:00...</td>\n",
       "      <td>1350.0</td>\n",
       "      <td>5000.0</td>\n",
       "      <td>NaN</td>\n",
       "    </tr>\n",
       "    <tr>\n",
       "      <th>4</th>\n",
       "      <td>10091713</td>\n",
       "      <td>https://www.airbnb.com/rooms/10091713</td>\n",
       "      <td>Surry Hills Studio - Your Perfect Base in Sydney</td>\n",
       "      <td>This spacious, light filled studio has everyth...</td>\n",
       "      <td>Comfortable studio with a great layout. The ba...</td>\n",
       "      <td>This spacious, light filled studio has everyth...</td>\n",
       "      <td>Surry Hills is a vibrant eclectic community an...</td>\n",
       "      <td>WiFi, Apple TV with Netflix App (for use with ...</td>\n",
       "      <td>Travel Card 'Opal' travel cards work on all Sy...</td>\n",
       "      <td>You have full use of the entire studio and com...</td>\n",
       "      <td>...</td>\n",
       "      <td>1</td>\n",
       "      <td>{'thumbnail_url': '', 'medium_url': '', 'pictu...</td>\n",
       "      <td>{'host_id': '13764143', 'host_url': 'https://w...</td>\n",
       "      <td>{'street': 'Surry Hills, NSW, Australia', 'sub...</td>\n",
       "      <td>{'availability_30': 0, 'availability_60': 0, '...</td>\n",
       "      <td>{'review_scores_accuracy': 10, 'review_scores_...</td>\n",
       "      <td>[{'_id': '123549502', 'date': '2016-12-29 05:0...</td>\n",
       "      <td>NaN</td>\n",
       "      <td>NaN</td>\n",
       "      <td>NaN</td>\n",
       "    </tr>\n",
       "  </tbody>\n",
       "</table>\n",
       "<p>5 rows × 42 columns</p>\n",
       "</div>"
      ],
      "text/plain": [
       "        _id                            listing_url  \\\n",
       "0   1003530   https://www.airbnb.com/rooms/1003530   \n",
       "1  10133554  https://www.airbnb.com/rooms/10133554   \n",
       "2  10059872  https://www.airbnb.com/rooms/10059872   \n",
       "3  10084023  https://www.airbnb.com/rooms/10084023   \n",
       "4  10091713  https://www.airbnb.com/rooms/10091713   \n",
       "\n",
       "                                               name  \\\n",
       "0               New York City - Upper West Side Apt   \n",
       "1               Double and triple rooms Blue mosque   \n",
       "2                Soho Cozy, Spacious and Convenient   \n",
       "3                 City center private room with bed   \n",
       "4  Surry Hills Studio - Your Perfect Base in Sydney   \n",
       "\n",
       "                                             summary  \\\n",
       "0                                                      \n",
       "1                                                      \n",
       "2  Clean, fully furnish, Spacious 1 bedroom flat ...   \n",
       "3  House is located 5mins walk from Sham Shui Po ...   \n",
       "4  This spacious, light filled studio has everyth...   \n",
       "\n",
       "                                               space  \\\n",
       "0  Murphy bed, optional second bedroom available....   \n",
       "1  We are on the central city  Blue mosque 5 minu...   \n",
       "2                                                      \n",
       "3  The house is old fashion type, and paint the w...   \n",
       "4  Comfortable studio with a great layout. The ba...   \n",
       "\n",
       "                                         description  \\\n",
       "0  Murphy bed, optional second bedroom available....   \n",
       "1  We are on the central city  Blue mosque 5 minu...   \n",
       "2  Clean, fully furnish, Spacious 1 bedroom flat ...   \n",
       "3  House is located 5mins walk from Sham Shui Po ...   \n",
       "4  This spacious, light filled studio has everyth...   \n",
       "\n",
       "                               neighborhood_overview  \\\n",
       "0  Great neighborhood - many terrific restaurants...   \n",
       "1  Cankurtaran mahallesi akbıyık caddesi no 22 Su...   \n",
       "2                                                      \n",
       "3  Cheapest food, electronic device, clothing and...   \n",
       "4  Surry Hills is a vibrant eclectic community an...   \n",
       "\n",
       "                                               notes  \\\n",
       "0  My cat, Samantha, are in and out during the su...   \n",
       "1                                                      \n",
       "2                                                      \n",
       "3  Deposit of $1000 will be charged and will retu...   \n",
       "4  WiFi, Apple TV with Netflix App (for use with ...   \n",
       "\n",
       "                                             transit  \\\n",
       "0  Conveniently located near 1, 2, 3, B & C subwa...   \n",
       "1   Tram 5 minutes  metro 10 minutes  Bus 10 minutes   \n",
       "2                                                      \n",
       "3  Close to 3 different MTR Station, Sham shui Po...   \n",
       "4  Travel Card 'Opal' travel cards work on all Sy...   \n",
       "\n",
       "                                              access  ... guests_included  \\\n",
       "0                                     New York City!  ...               1   \n",
       "1  We have bathroom,wc,İnternet in rooms and unde...  ...               1   \n",
       "2                                                     ...               1   \n",
       "3  Living Room , Kitchen and Toilet, All cooking ...  ...               1   \n",
       "4  You have full use of the entire studio and com...  ...               1   \n",
       "\n",
       "                                              images  \\\n",
       "0  {'thumbnail_url': '', 'medium_url': '', 'pictu...   \n",
       "1  {'thumbnail_url': '', 'medium_url': '', 'pictu...   \n",
       "2  {'thumbnail_url': '', 'medium_url': '', 'pictu...   \n",
       "3  {'thumbnail_url': '', 'medium_url': '', 'pictu...   \n",
       "4  {'thumbnail_url': '', 'medium_url': '', 'pictu...   \n",
       "\n",
       "                                                host  \\\n",
       "0  {'host_id': '454250', 'host_url': 'https://www...   \n",
       "1  {'host_id': '52004703', 'host_url': 'https://w...   \n",
       "2  {'host_id': '51624384', 'host_url': 'https://w...   \n",
       "3  {'host_id': '51744313', 'host_url': 'https://w...   \n",
       "4  {'host_id': '13764143', 'host_url': 'https://w...   \n",
       "\n",
       "                                             address  \\\n",
       "0  {'street': 'New York, NY, United States', 'sub...   \n",
       "1  {'street': 'Fatih , İstanbul, Turkey', 'suburb...   \n",
       "2  {'street': 'Hong Kong, Hong Kong Island, Hong ...   \n",
       "3  {'street': 'Hong Kong , 九龍, Hong Kong', 'subur...   \n",
       "4  {'street': 'Surry Hills, NSW, Australia', 'sub...   \n",
       "\n",
       "                                        availability  \\\n",
       "0  {'availability_30': 0, 'availability_60': 0, '...   \n",
       "1  {'availability_30': 30, 'availability_60': 60,...   \n",
       "2  {'availability_30': 0, 'availability_60': 0, '...   \n",
       "3  {'availability_30': 14, 'availability_60': 24,...   \n",
       "4  {'availability_30': 0, 'availability_60': 0, '...   \n",
       "\n",
       "                                       review_scores  \\\n",
       "0  {'review_scores_accuracy': 10, 'review_scores_...   \n",
       "1  {'review_scores_accuracy': 9, 'review_scores_c...   \n",
       "2  {'review_scores_accuracy': 10, 'review_scores_...   \n",
       "3  {'review_scores_accuracy': 10, 'review_scores_...   \n",
       "4  {'review_scores_accuracy': 10, 'review_scores_...   \n",
       "\n",
       "                                             reviews weekly_price  \\\n",
       "0  [{'_id': '4351675', 'date': '2013-04-29 04:00:...          NaN   \n",
       "1  [{'_id': '149469150', 'date': '2017-05-04 04:0...          NaN   \n",
       "2  [{'_id': '56904633', 'date': '2015-12-19 05:00...       5000.0   \n",
       "3  [{'_id': '57191745', 'date': '2015-12-22 05:00...       1350.0   \n",
       "4  [{'_id': '123549502', 'date': '2016-12-29 05:0...          NaN   \n",
       "\n",
       "  monthly_price reviews_per_month  \n",
       "0           NaN               NaN  \n",
       "1           NaN               NaN  \n",
       "2           NaN               NaN  \n",
       "3        5000.0               NaN  \n",
       "4           NaN               NaN  \n",
       "\n",
       "[5 rows x 42 columns]"
      ]
     },
     "execution_count": 6,
     "metadata": {},
     "output_type": "execute_result"
    }
   ],
   "source": [
    "df.head()"
   ]
  },
  {
   "cell_type": "code",
   "execution_count": 7,
   "id": "acab82b1",
   "metadata": {},
   "outputs": [
    {
     "data": {
      "text/plain": [
       "(5555, 42)"
      ]
     },
     "execution_count": 7,
     "metadata": {},
     "output_type": "execute_result"
    }
   ],
   "source": [
    "df.shape"
   ]
  },
  {
   "cell_type": "code",
   "execution_count": 8,
   "id": "6081e134",
   "metadata": {},
   "outputs": [
    {
     "data": {
      "text/plain": [
       "_id                        int64\n",
       "listing_url               object\n",
       "name                      object\n",
       "summary                   object\n",
       "space                     object\n",
       "description               object\n",
       "neighborhood_overview     object\n",
       "notes                     object\n",
       "transit                   object\n",
       "access                    object\n",
       "interaction               object\n",
       "house_rules               object\n",
       "property_type             object\n",
       "room_type                 object\n",
       "bed_type                  object\n",
       "minimum_nights             int64\n",
       "maximum_nights             int64\n",
       "cancellation_policy       object\n",
       "last_scraped              object\n",
       "calendar_last_scraped     object\n",
       "first_review              object\n",
       "last_review               object\n",
       "accommodates               int64\n",
       "bedrooms                 float64\n",
       "beds                     float64\n",
       "number_of_reviews          int64\n",
       "bathrooms                float64\n",
       "amenities                 object\n",
       "price                      int64\n",
       "security_deposit         float64\n",
       "cleaning_fee             float64\n",
       "extra_people               int64\n",
       "guests_included            int64\n",
       "images                    object\n",
       "host                      object\n",
       "address                   object\n",
       "availability              object\n",
       "review_scores             object\n",
       "reviews                   object\n",
       "weekly_price             float64\n",
       "monthly_price            float64\n",
       "reviews_per_month        float64\n",
       "dtype: object"
      ]
     },
     "execution_count": 8,
     "metadata": {},
     "output_type": "execute_result"
    }
   ],
   "source": [
    "df.dtypes"
   ]
  },
  {
   "cell_type": "code",
   "execution_count": 9,
   "id": "9a5500bb",
   "metadata": {},
   "outputs": [
    {
     "data": {
      "text/plain": [
       "_id                         0\n",
       "listing_url                 0\n",
       "name                        0\n",
       "summary                     0\n",
       "space                       0\n",
       "description                 0\n",
       "neighborhood_overview       0\n",
       "notes                       0\n",
       "transit                     0\n",
       "access                      0\n",
       "interaction                 0\n",
       "house_rules                 0\n",
       "property_type               0\n",
       "room_type                   0\n",
       "bed_type                    0\n",
       "minimum_nights              0\n",
       "maximum_nights              0\n",
       "cancellation_policy         0\n",
       "last_scraped                0\n",
       "calendar_last_scraped       0\n",
       "first_review             1388\n",
       "last_review              1388\n",
       "accommodates                0\n",
       "bedrooms                    5\n",
       "beds                       13\n",
       "number_of_reviews           0\n",
       "bathrooms                  10\n",
       "amenities                   0\n",
       "price                       0\n",
       "security_deposit         2084\n",
       "cleaning_fee             1531\n",
       "extra_people                0\n",
       "guests_included             0\n",
       "images                      0\n",
       "host                        0\n",
       "address                     0\n",
       "availability                0\n",
       "review_scores               0\n",
       "reviews                     0\n",
       "weekly_price             4841\n",
       "monthly_price            4899\n",
       "reviews_per_month        5461\n",
       "dtype: int64"
      ]
     },
     "execution_count": 9,
     "metadata": {},
     "output_type": "execute_result"
    }
   ],
   "source": [
    " df.isnull().sum()"
   ]
  },
  {
   "cell_type": "code",
   "execution_count": 10,
   "id": "22267dca",
   "metadata": {},
   "outputs": [],
   "source": [
    "df.drop(['first_review','last_review','listing_url','_id','host','images', 'reviews','space', 'notes', 'access', 'interaction',\n",
    "                   'house_rules', 'last_scraped'], axis=1,inplace=True)"
   ]
  },
  {
   "cell_type": "code",
   "execution_count": 11,
   "id": "4f03852b",
   "metadata": {},
   "outputs": [],
   "source": [
    "df.drop(['summary', 'description', 'cleaning_fee'],axis=1,inplace=True)"
   ]
  },
  {
   "cell_type": "code",
   "execution_count": 43,
   "id": "e88ce92c",
   "metadata": {},
   "outputs": [
    {
     "data": {
      "text/plain": [
       "(5555, 26)"
      ]
     },
     "execution_count": 43,
     "metadata": {},
     "output_type": "execute_result"
    }
   ],
   "source": [
    "df.shape"
   ]
  },
  {
   "cell_type": "code",
   "execution_count": 21,
   "id": "2f9cdd01",
   "metadata": {},
   "outputs": [],
   "source": [
    "# create a dictionary columne into new colume if imp other wise delete \n",
    "# row.get() method and the create a year table from address table"
   ]
  },
  {
   "cell_type": "code",
   "execution_count": 44,
   "id": "9b918341",
   "metadata": {},
   "outputs": [
    {
     "data": {
      "text/plain": [
       "name                        0\n",
       "neighborhood_overview       0\n",
       "transit                     0\n",
       "property_type               0\n",
       "room_type                   0\n",
       "bed_type                    0\n",
       "minimum_nights              0\n",
       "maximum_nights              0\n",
       "cancellation_policy         0\n",
       "calendar_last_scraped       0\n",
       "accommodates                0\n",
       "bedrooms                    5\n",
       "beds                       13\n",
       "number_of_reviews           0\n",
       "bathrooms                  10\n",
       "amenities                   0\n",
       "price                       0\n",
       "security_deposit         2084\n",
       "extra_people                0\n",
       "guests_included             0\n",
       "address                     0\n",
       "availability                0\n",
       "review_scores               0\n",
       "weekly_price             4841\n",
       "monthly_price            4899\n",
       "reviews_per_month        5461\n",
       "dtype: int64"
      ]
     },
     "execution_count": 44,
     "metadata": {},
     "output_type": "execute_result"
    }
   ],
   "source": [
    "df.isnull().sum()"
   ]
  },
  {
   "cell_type": "code",
   "execution_count": 24,
   "id": "9079b821",
   "metadata": {},
   "outputs": [],
   "source": [
    "# (host,address,availability,review_scores,reviews) This columne haveing data in \n",
    "# key value pair we have to createseprate columne for  key and values "
   ]
  },
  {
   "cell_type": "code",
   "execution_count": 12,
   "id": "5db472ae",
   "metadata": {},
   "outputs": [],
   "source": [
    "bedroom = df['bedrooms'].mode()[0]\n",
    "df['bedrooms'].fillna(bedroom, inplace=True)"
   ]
  },
  {
   "cell_type": "code",
   "execution_count": 13,
   "id": "646d014c",
   "metadata": {},
   "outputs": [],
   "source": [
    "bed = df['beds'].mode()[0]\n",
    "df['beds'].fillna(bed, inplace=True)"
   ]
  },
  {
   "cell_type": "code",
   "execution_count": 14,
   "id": "801f4e5d",
   "metadata": {},
   "outputs": [],
   "source": [
    "review = df['number_of_reviews'].mode()[0]\n",
    "df['number_of_reviews'].fillna(review, inplace=True)"
   ]
  },
  {
   "cell_type": "code",
   "execution_count": 15,
   "id": "4b215371",
   "metadata": {},
   "outputs": [],
   "source": [
    "bathroom = df['bathrooms'].mode()[0]\n",
    "df['bathrooms'].fillna(bathroom, inplace=True)"
   ]
  },
  {
   "cell_type": "code",
   "execution_count": 49,
   "id": "8d144c88",
   "metadata": {},
   "outputs": [
    {
     "data": {
      "text/plain": [
       "name                        0\n",
       "neighborhood_overview       0\n",
       "transit                     0\n",
       "property_type               0\n",
       "room_type                   0\n",
       "bed_type                    0\n",
       "minimum_nights              0\n",
       "maximum_nights              0\n",
       "cancellation_policy         0\n",
       "calendar_last_scraped       0\n",
       "accommodates                0\n",
       "bedrooms                    0\n",
       "beds                        0\n",
       "number_of_reviews           0\n",
       "bathrooms                   0\n",
       "amenities                   0\n",
       "price                       0\n",
       "security_deposit         2084\n",
       "extra_people                0\n",
       "guests_included             0\n",
       "address                     0\n",
       "availability                0\n",
       "review_scores               0\n",
       "weekly_price             4841\n",
       "monthly_price            4899\n",
       "reviews_per_month        5461\n",
       "dtype: int64"
      ]
     },
     "execution_count": 49,
     "metadata": {},
     "output_type": "execute_result"
    }
   ],
   "source": [
    "df.isnull().sum()"
   ]
  },
  {
   "cell_type": "code",
   "execution_count": 16,
   "id": "91a4d6db",
   "metadata": {},
   "outputs": [],
   "source": [
    "def extract_city(address):\n",
    "    return address.get('street')\n",
    "df['city'] = df['address'].apply(extract_city)"
   ]
  },
  {
   "cell_type": "code",
   "execution_count": 17,
   "id": "cb8780cf",
   "metadata": {},
   "outputs": [],
   "source": [
    "def extract_city_from_dict(address):\n",
    "    return address['street'].split(',')[0].strip()\n",
    "df['city1'] = df['address'].apply(extract_city_from_dict)"
   ]
  },
  {
   "cell_type": "code",
   "execution_count": 18,
   "id": "733484c9",
   "metadata": {},
   "outputs": [
    {
     "data": {
      "text/plain": [
       "0    New York\n",
       "1       Fatih\n",
       "Name: city1, dtype: object"
      ]
     },
     "execution_count": 18,
     "metadata": {},
     "output_type": "execute_result"
    }
   ],
   "source": [
    "df['city1'].head(2)"
   ]
  },
  {
   "cell_type": "code",
   "execution_count": 53,
   "id": "eacf653e",
   "metadata": {},
   "outputs": [
    {
     "name": "stdout",
     "output_type": "stream",
     "text": [
      "<class 'pandas.core.frame.DataFrame'>\n",
      "RangeIndex: 5555 entries, 0 to 5554\n",
      "Data columns (total 28 columns):\n",
      " #   Column                 Non-Null Count  Dtype  \n",
      "---  ------                 --------------  -----  \n",
      " 0   name                   5555 non-null   object \n",
      " 1   neighborhood_overview  5555 non-null   object \n",
      " 2   transit                5555 non-null   object \n",
      " 3   property_type          5555 non-null   object \n",
      " 4   room_type              5555 non-null   object \n",
      " 5   bed_type               5555 non-null   object \n",
      " 6   minimum_nights         5555 non-null   int64  \n",
      " 7   maximum_nights         5555 non-null   int64  \n",
      " 8   cancellation_policy    5555 non-null   object \n",
      " 9   calendar_last_scraped  5555 non-null   object \n",
      " 10  accommodates           5555 non-null   int64  \n",
      " 11  bedrooms               5555 non-null   float64\n",
      " 12  beds                   5555 non-null   float64\n",
      " 13  number_of_reviews      5555 non-null   int64  \n",
      " 14  bathrooms              5555 non-null   float64\n",
      " 15  amenities              5555 non-null   object \n",
      " 16  price                  5555 non-null   int64  \n",
      " 17  security_deposit       3471 non-null   float64\n",
      " 18  extra_people           5555 non-null   int64  \n",
      " 19  guests_included        5555 non-null   int64  \n",
      " 20  address                5555 non-null   object \n",
      " 21  availability           5555 non-null   object \n",
      " 22  review_scores          5555 non-null   object \n",
      " 23  weekly_price           714 non-null    float64\n",
      " 24  monthly_price          656 non-null    float64\n",
      " 25  reviews_per_month      94 non-null     float64\n",
      " 26  city                   5555 non-null   object \n",
      " 27  city1                  5555 non-null   object \n",
      "dtypes: float64(7), int64(7), object(14)\n",
      "memory usage: 1.2+ MB\n"
     ]
    }
   ],
   "source": [
    "df.info()"
   ]
  },
  {
   "cell_type": "code",
   "execution_count": 56,
   "id": "d83d9caa",
   "metadata": {},
   "outputs": [],
   "source": [
    "# ndf = pd.DataFrame({\n",
    "#     'name': df.get('name'),\n",
    "#     'summary': df.get('summary'),\n",
    "#     'description': df.get('description'),\n",
    "#     'neighborhood_overview': df.get('neighborhood_overview'),\n",
    "#     'transit': df.get('transit'),\n",
    "#     'property_type': df.get('property_type'),\n",
    "#     'room_type': df.get('room_type'),\n",
    "#     'bed_type': df.get('bed_type'),\n",
    "#     'minimum_nights': df.get('minimum_nights'),\n",
    "#     'maximum_nights': df.get('maximum_nights'),\n",
    "#     'cancellation_policy': df.get('cancellation_policy'),\n",
    "#     'accommodates': df.get('accommodates'),\n",
    "#     'bedrooms': df.get('bedrooms'),\n",
    "#     'beds': df.get('beds'),\n",
    "#     'number_of_reviews': df.get('number_of_reviews'),\n",
    "#     'bathrooms': df.get('bathrooms'),\n",
    "#     'amenities': df.get('amenities'),\n",
    "#     'price': df.get('price'),\n",
    "#     'security_deposit': df.get('security_deposit'),\n",
    "#     'cleaning_fee': df.get('cleaning_fee'),\n",
    "#     'extra_people': df.get('extra_people'),\n",
    "#     'guests_included': df.get('guests_included'),\n",
    "#     'host': df.get('host'),\n",
    "#     'address': df.get('address'),\n",
    "#     'availability': df.get('availability'),\n",
    "#     'review_scores': df.get('review_scores'),\n",
    "#     'city': df.get('city'),\n",
    "#     'city1': df.get('city1'),\n",
    "#     'Date':df.get('calendar_last_scraped ')\n",
    "# })"
   ]
  },
  {
   "cell_type": "code",
   "execution_count": 54,
   "id": "e91708a9",
   "metadata": {
    "scrolled": true
   },
   "outputs": [
    {
     "data": {
      "text/plain": [
       "(5555, 28)"
      ]
     },
     "execution_count": 54,
     "metadata": {},
     "output_type": "execute_result"
    }
   ],
   "source": [
    "df.shape"
   ]
  },
  {
   "cell_type": "code",
   "execution_count": 19,
   "id": "24fdee07",
   "metadata": {},
   "outputs": [],
   "source": [
    "df.drop(columns=['city', 'neighborhood_overview'], inplace=True)"
   ]
  },
  {
   "cell_type": "code",
   "execution_count": 57,
   "id": "6fdc0df8",
   "metadata": {},
   "outputs": [
    {
     "data": {
      "text/plain": [
       "(5555, 26)"
      ]
     },
     "execution_count": 57,
     "metadata": {},
     "output_type": "execute_result"
    }
   ],
   "source": [
    "df.shape"
   ]
  },
  {
   "cell_type": "code",
   "execution_count": 59,
   "id": "ea8fbcbe",
   "metadata": {},
   "outputs": [
    {
     "data": {
      "text/plain": [
       "Index(['name', 'transit', 'property_type', 'room_type', 'bed_type',\n",
       "       'minimum_nights', 'maximum_nights', 'cancellation_policy',\n",
       "       'calendar_last_scraped', 'accommodates', 'bedrooms', 'beds',\n",
       "       'number_of_reviews', 'bathrooms', 'amenities', 'price',\n",
       "       'security_deposit', 'extra_people', 'guests_included', 'address',\n",
       "       'availability', 'review_scores', 'weekly_price', 'monthly_price',\n",
       "       'reviews_per_month', 'city1'],\n",
       "      dtype='object')"
      ]
     },
     "execution_count": 59,
     "metadata": {},
     "output_type": "execute_result"
    }
   ],
   "source": [
    "df.columns"
   ]
  },
  {
   "cell_type": "code",
   "execution_count": 60,
   "id": "9d5aa030",
   "metadata": {},
   "outputs": [
    {
     "data": {
      "text/plain": [
       "name                        0\n",
       "transit                     0\n",
       "property_type               0\n",
       "room_type                   0\n",
       "bed_type                    0\n",
       "minimum_nights              0\n",
       "maximum_nights              0\n",
       "cancellation_policy         0\n",
       "calendar_last_scraped       0\n",
       "accommodates                0\n",
       "bedrooms                    0\n",
       "beds                        0\n",
       "number_of_reviews           0\n",
       "bathrooms                   0\n",
       "amenities                   0\n",
       "price                       0\n",
       "security_deposit         2084\n",
       "extra_people                0\n",
       "guests_included             0\n",
       "address                     0\n",
       "availability                0\n",
       "review_scores               0\n",
       "weekly_price             4841\n",
       "monthly_price            4899\n",
       "reviews_per_month        5461\n",
       "city1                       0\n",
       "dtype: int64"
      ]
     },
     "execution_count": 60,
     "metadata": {},
     "output_type": "execute_result"
    }
   ],
   "source": [
    "df.isnull().sum()"
   ]
  },
  {
   "cell_type": "code",
   "execution_count": 20,
   "id": "1f0b47dd",
   "metadata": {},
   "outputs": [],
   "source": [
    "# Security deposit the fill the null value \n",
    "mode = df['security_deposit'].mode()[0]\n",
    "df['security_deposit'].fillna(mode, inplace=True)"
   ]
  },
  {
   "cell_type": "code",
   "execution_count": 62,
   "id": "40c1988f",
   "metadata": {},
   "outputs": [
    {
     "data": {
      "text/plain": [
       "name                        0\n",
       "transit                     0\n",
       "property_type               0\n",
       "room_type                   0\n",
       "bed_type                    0\n",
       "minimum_nights              0\n",
       "maximum_nights              0\n",
       "cancellation_policy         0\n",
       "calendar_last_scraped       0\n",
       "accommodates                0\n",
       "bedrooms                    0\n",
       "beds                        0\n",
       "number_of_reviews           0\n",
       "bathrooms                   0\n",
       "amenities                   0\n",
       "price                       0\n",
       "security_deposit            0\n",
       "extra_people                0\n",
       "guests_included             0\n",
       "address                     0\n",
       "availability                0\n",
       "review_scores               0\n",
       "weekly_price             4841\n",
       "monthly_price            4899\n",
       "reviews_per_month        5461\n",
       "city1                       0\n",
       "dtype: int64"
      ]
     },
     "execution_count": 62,
     "metadata": {},
     "output_type": "execute_result"
    }
   ],
   "source": [
    "df.isnull().sum()"
   ]
  },
  {
   "cell_type": "code",
   "execution_count": 63,
   "id": "90d0257a",
   "metadata": {},
   "outputs": [
    {
     "data": {
      "text/plain": [
       "(5555, 26)"
      ]
     },
     "execution_count": 63,
     "metadata": {},
     "output_type": "execute_result"
    }
   ],
   "source": [
    "df.shape"
   ]
  },
  {
   "cell_type": "code",
   "execution_count": 127,
   "id": "b98ef754",
   "metadata": {
    "scrolled": true
   },
   "outputs": [
    {
     "name": "stdout",
     "output_type": "stream",
     "text": [
      "<class 'pandas.core.frame.DataFrame'>\n",
      "RangeIndex: 5555 entries, 0 to 5554\n",
      "Data columns (total 22 columns):\n",
      " #   Column               Non-Null Count  Dtype  \n",
      "---  ------               --------------  -----  \n",
      " 0   index                5555 non-null   int64  \n",
      " 1   name                 5555 non-null   object \n",
      " 2   property_type        5555 non-null   object \n",
      " 3   room_type            5555 non-null   object \n",
      " 4   minimum_nights       5555 non-null   int64  \n",
      " 5   maximum_nights       5555 non-null   int64  \n",
      " 6   cancellation_policy  5555 non-null   object \n",
      " 7   accommodates         5555 non-null   int64  \n",
      " 8   bedrooms             5555 non-null   float64\n",
      " 9   beds                 5555 non-null   float64\n",
      " 10  bathrooms            5555 non-null   float64\n",
      " 11  amenities            5555 non-null   object \n",
      " 12  price                5555 non-null   int64  \n",
      " 13  security_deposit     5555 non-null   float64\n",
      " 14  extra_people         5555 non-null   int64  \n",
      " 15  guests_included      5555 non-null   int64  \n",
      " 16  availability         5555 non-null   object \n",
      " 17  city1                5555 non-null   object \n",
      " 18  Date                 0 non-null      object \n",
      " 19  Review Rating        4081 non-null   float64\n",
      " 20  Availability         5555 non-null   int64  \n",
      " 21  formatted_address    5555 non-null   object \n",
      "dtypes: float64(5), int64(8), object(9)\n",
      "memory usage: 954.9+ KB\n"
     ]
    }
   ],
   "source": [
    "ndf.info()"
   ]
  },
  {
   "cell_type": "code",
   "execution_count": 64,
   "id": "49cd603d",
   "metadata": {},
   "outputs": [
    {
     "data": {
      "text/plain": [
       "Index(['name', 'transit', 'property_type', 'room_type', 'minimum_nights',\n",
       "       'maximum_nights', 'cancellation_policy', 'accommodates', 'bedrooms',\n",
       "       'beds', 'bathrooms', 'amenities', 'price', 'security_deposit',\n",
       "       'extra_people', 'guests_included', 'address', 'availability',\n",
       "       'review_scores', 'city1', 'Date'],\n",
       "      dtype='object')"
      ]
     },
     "execution_count": 64,
     "metadata": {},
     "output_type": "execute_result"
    }
   ],
   "source": [
    "# Convert 'bedrooms', 'beds', and 'bathrooms' columns from float64 to int\n",
    "df.columns"
   ]
  },
  {
   "cell_type": "code",
   "execution_count": 21,
   "id": "9fe2b76f",
   "metadata": {},
   "outputs": [],
   "source": [
    "df['bedrooms'] = df['bedrooms'].astype(int)\n",
    "df['beds'] = df['beds'].astype(int)\n",
    "df['bathrooms'] = df['bathrooms'].astype(int)"
   ]
  },
  {
   "cell_type": "code",
   "execution_count": 67,
   "id": "c24e8aa6",
   "metadata": {},
   "outputs": [
    {
     "name": "stdout",
     "output_type": "stream",
     "text": [
      "<class 'pandas.core.frame.DataFrame'>\n",
      "RangeIndex: 5555 entries, 0 to 5554\n",
      "Data columns (total 26 columns):\n",
      " #   Column                 Non-Null Count  Dtype  \n",
      "---  ------                 --------------  -----  \n",
      " 0   name                   5555 non-null   object \n",
      " 1   transit                5555 non-null   object \n",
      " 2   property_type          5555 non-null   object \n",
      " 3   room_type              5555 non-null   object \n",
      " 4   bed_type               5555 non-null   object \n",
      " 5   minimum_nights         5555 non-null   int64  \n",
      " 6   maximum_nights         5555 non-null   int64  \n",
      " 7   cancellation_policy    5555 non-null   object \n",
      " 8   calendar_last_scraped  5555 non-null   object \n",
      " 9   accommodates           5555 non-null   int64  \n",
      " 10  bedrooms               5555 non-null   int32  \n",
      " 11  beds                   5555 non-null   int32  \n",
      " 12  number_of_reviews      5555 non-null   int64  \n",
      " 13  bathrooms              5555 non-null   int32  \n",
      " 14  amenities              5555 non-null   object \n",
      " 15  price                  5555 non-null   int64  \n",
      " 16  security_deposit       5555 non-null   float64\n",
      " 17  extra_people           5555 non-null   int64  \n",
      " 18  guests_included        5555 non-null   int64  \n",
      " 19  address                5555 non-null   object \n",
      " 20  availability           5555 non-null   object \n",
      " 21  review_scores          5555 non-null   object \n",
      " 22  weekly_price           714 non-null    float64\n",
      " 23  monthly_price          656 non-null    float64\n",
      " 24  reviews_per_month      94 non-null     float64\n",
      " 25  city1                  5555 non-null   object \n",
      "dtypes: float64(4), int32(3), int64(7), object(12)\n",
      "memory usage: 1.0+ MB\n"
     ]
    }
   ],
   "source": [
    "df.info()"
   ]
  },
  {
   "cell_type": "code",
   "execution_count": 68,
   "id": "30322b18",
   "metadata": {},
   "outputs": [
    {
     "data": {
      "text/html": [
       "<div>\n",
       "<style scoped>\n",
       "    .dataframe tbody tr th:only-of-type {\n",
       "        vertical-align: middle;\n",
       "    }\n",
       "\n",
       "    .dataframe tbody tr th {\n",
       "        vertical-align: top;\n",
       "    }\n",
       "\n",
       "    .dataframe thead th {\n",
       "        text-align: right;\n",
       "    }\n",
       "</style>\n",
       "<table border=\"1\" class=\"dataframe\">\n",
       "  <thead>\n",
       "    <tr style=\"text-align: right;\">\n",
       "      <th></th>\n",
       "      <th>name</th>\n",
       "      <th>transit</th>\n",
       "      <th>property_type</th>\n",
       "      <th>room_type</th>\n",
       "      <th>bed_type</th>\n",
       "      <th>minimum_nights</th>\n",
       "      <th>maximum_nights</th>\n",
       "      <th>cancellation_policy</th>\n",
       "      <th>calendar_last_scraped</th>\n",
       "      <th>accommodates</th>\n",
       "      <th>...</th>\n",
       "      <th>security_deposit</th>\n",
       "      <th>extra_people</th>\n",
       "      <th>guests_included</th>\n",
       "      <th>address</th>\n",
       "      <th>availability</th>\n",
       "      <th>review_scores</th>\n",
       "      <th>weekly_price</th>\n",
       "      <th>monthly_price</th>\n",
       "      <th>reviews_per_month</th>\n",
       "      <th>city1</th>\n",
       "    </tr>\n",
       "  </thead>\n",
       "  <tbody>\n",
       "    <tr>\n",
       "      <th>0</th>\n",
       "      <td>New York City - Upper West Side Apt</td>\n",
       "      <td>Conveniently located near 1, 2, 3, B &amp; C subwa...</td>\n",
       "      <td>Apartment</td>\n",
       "      <td>Private room</td>\n",
       "      <td>Real Bed</td>\n",
       "      <td>12</td>\n",
       "      <td>360</td>\n",
       "      <td>strict_14_with_grace_period</td>\n",
       "      <td>2019-03-07 05:00:00</td>\n",
       "      <td>2</td>\n",
       "      <td>...</td>\n",
       "      <td>0.0</td>\n",
       "      <td>0</td>\n",
       "      <td>1</td>\n",
       "      <td>{'street': 'New York, NY, United States', 'sub...</td>\n",
       "      <td>{'availability_30': 0, 'availability_60': 0, '...</td>\n",
       "      <td>{'review_scores_accuracy': 10, 'review_scores_...</td>\n",
       "      <td>NaN</td>\n",
       "      <td>NaN</td>\n",
       "      <td>NaN</td>\n",
       "      <td>New York</td>\n",
       "    </tr>\n",
       "    <tr>\n",
       "      <th>1</th>\n",
       "      <td>Double and triple rooms Blue mosque</td>\n",
       "      <td>Tram 5 minutes  metro 10 minutes  Bus 10 minutes</td>\n",
       "      <td>Bed and breakfast</td>\n",
       "      <td>Private room</td>\n",
       "      <td>Real Bed</td>\n",
       "      <td>1</td>\n",
       "      <td>1125</td>\n",
       "      <td>moderate</td>\n",
       "      <td>2019-02-18 05:00:00</td>\n",
       "      <td>3</td>\n",
       "      <td>...</td>\n",
       "      <td>0.0</td>\n",
       "      <td>0</td>\n",
       "      <td>1</td>\n",
       "      <td>{'street': 'Fatih , İstanbul, Turkey', 'suburb...</td>\n",
       "      <td>{'availability_30': 30, 'availability_60': 60,...</td>\n",
       "      <td>{'review_scores_accuracy': 9, 'review_scores_c...</td>\n",
       "      <td>NaN</td>\n",
       "      <td>NaN</td>\n",
       "      <td>NaN</td>\n",
       "      <td>Fatih</td>\n",
       "    </tr>\n",
       "  </tbody>\n",
       "</table>\n",
       "<p>2 rows × 26 columns</p>\n",
       "</div>"
      ],
      "text/plain": [
       "                                  name  \\\n",
       "0  New York City - Upper West Side Apt   \n",
       "1  Double and triple rooms Blue mosque   \n",
       "\n",
       "                                             transit      property_type  \\\n",
       "0  Conveniently located near 1, 2, 3, B & C subwa...          Apartment   \n",
       "1   Tram 5 minutes  metro 10 minutes  Bus 10 minutes  Bed and breakfast   \n",
       "\n",
       "      room_type  bed_type  minimum_nights  maximum_nights  \\\n",
       "0  Private room  Real Bed              12             360   \n",
       "1  Private room  Real Bed               1            1125   \n",
       "\n",
       "           cancellation_policy calendar_last_scraped  accommodates  ...  \\\n",
       "0  strict_14_with_grace_period   2019-03-07 05:00:00             2  ...   \n",
       "1                     moderate   2019-02-18 05:00:00             3  ...   \n",
       "\n",
       "   security_deposit  extra_people  guests_included  \\\n",
       "0               0.0             0                1   \n",
       "1               0.0             0                1   \n",
       "\n",
       "                                             address  \\\n",
       "0  {'street': 'New York, NY, United States', 'sub...   \n",
       "1  {'street': 'Fatih , İstanbul, Turkey', 'suburb...   \n",
       "\n",
       "                                        availability  \\\n",
       "0  {'availability_30': 0, 'availability_60': 0, '...   \n",
       "1  {'availability_30': 30, 'availability_60': 60,...   \n",
       "\n",
       "                                       review_scores  weekly_price  \\\n",
       "0  {'review_scores_accuracy': 10, 'review_scores_...           NaN   \n",
       "1  {'review_scores_accuracy': 9, 'review_scores_c...           NaN   \n",
       "\n",
       "   monthly_price  reviews_per_month     city1  \n",
       "0            NaN                NaN  New York  \n",
       "1            NaN                NaN     Fatih  \n",
       "\n",
       "[2 rows x 26 columns]"
      ]
     },
     "execution_count": 68,
     "metadata": {},
     "output_type": "execute_result"
    }
   ],
   "source": [
    "df.head(2)"
   ]
  },
  {
   "cell_type": "code",
   "execution_count": 93,
   "id": "fff9a4c9",
   "metadata": {},
   "outputs": [],
   "source": [
    "# Change the data type of 'review_scores' from object to float\n",
    "# ndf['review_scores'] = ndf['review_scores'].astype(float)"
   ]
  },
  {
   "cell_type": "code",
   "execution_count": 22,
   "id": "c14dec3e",
   "metadata": {},
   "outputs": [],
   "source": [
    "# Reset index to add as a new column\n",
    "df.reset_index(inplace=True)"
   ]
  },
  {
   "cell_type": "code",
   "execution_count": 23,
   "id": "44e9f373",
   "metadata": {},
   "outputs": [
    {
     "data": {
      "text/html": [
       "<div>\n",
       "<style scoped>\n",
       "    .dataframe tbody tr th:only-of-type {\n",
       "        vertical-align: middle;\n",
       "    }\n",
       "\n",
       "    .dataframe tbody tr th {\n",
       "        vertical-align: top;\n",
       "    }\n",
       "\n",
       "    .dataframe thead th {\n",
       "        text-align: right;\n",
       "    }\n",
       "</style>\n",
       "<table border=\"1\" class=\"dataframe\">\n",
       "  <thead>\n",
       "    <tr style=\"text-align: right;\">\n",
       "      <th></th>\n",
       "      <th>index</th>\n",
       "      <th>name</th>\n",
       "      <th>transit</th>\n",
       "      <th>property_type</th>\n",
       "      <th>room_type</th>\n",
       "      <th>bed_type</th>\n",
       "      <th>minimum_nights</th>\n",
       "      <th>maximum_nights</th>\n",
       "      <th>cancellation_policy</th>\n",
       "      <th>calendar_last_scraped</th>\n",
       "      <th>...</th>\n",
       "      <th>security_deposit</th>\n",
       "      <th>extra_people</th>\n",
       "      <th>guests_included</th>\n",
       "      <th>address</th>\n",
       "      <th>availability</th>\n",
       "      <th>review_scores</th>\n",
       "      <th>weekly_price</th>\n",
       "      <th>monthly_price</th>\n",
       "      <th>reviews_per_month</th>\n",
       "      <th>city1</th>\n",
       "    </tr>\n",
       "  </thead>\n",
       "  <tbody>\n",
       "    <tr>\n",
       "      <th>0</th>\n",
       "      <td>0</td>\n",
       "      <td>New York City - Upper West Side Apt</td>\n",
       "      <td>Conveniently located near 1, 2, 3, B &amp; C subwa...</td>\n",
       "      <td>Apartment</td>\n",
       "      <td>Private room</td>\n",
       "      <td>Real Bed</td>\n",
       "      <td>12</td>\n",
       "      <td>360</td>\n",
       "      <td>strict_14_with_grace_period</td>\n",
       "      <td>2019-03-07 05:00:00</td>\n",
       "      <td>...</td>\n",
       "      <td>0.0</td>\n",
       "      <td>0</td>\n",
       "      <td>1</td>\n",
       "      <td>{'street': 'New York, NY, United States', 'sub...</td>\n",
       "      <td>{'availability_30': 0, 'availability_60': 0, '...</td>\n",
       "      <td>{'review_scores_accuracy': 10, 'review_scores_...</td>\n",
       "      <td>NaN</td>\n",
       "      <td>NaN</td>\n",
       "      <td>NaN</td>\n",
       "      <td>New York</td>\n",
       "    </tr>\n",
       "    <tr>\n",
       "      <th>1</th>\n",
       "      <td>1</td>\n",
       "      <td>Double and triple rooms Blue mosque</td>\n",
       "      <td>Tram 5 minutes  metro 10 minutes  Bus 10 minutes</td>\n",
       "      <td>Bed and breakfast</td>\n",
       "      <td>Private room</td>\n",
       "      <td>Real Bed</td>\n",
       "      <td>1</td>\n",
       "      <td>1125</td>\n",
       "      <td>moderate</td>\n",
       "      <td>2019-02-18 05:00:00</td>\n",
       "      <td>...</td>\n",
       "      <td>0.0</td>\n",
       "      <td>0</td>\n",
       "      <td>1</td>\n",
       "      <td>{'street': 'Fatih , İstanbul, Turkey', 'suburb...</td>\n",
       "      <td>{'availability_30': 30, 'availability_60': 60,...</td>\n",
       "      <td>{'review_scores_accuracy': 9, 'review_scores_c...</td>\n",
       "      <td>NaN</td>\n",
       "      <td>NaN</td>\n",
       "      <td>NaN</td>\n",
       "      <td>Fatih</td>\n",
       "    </tr>\n",
       "  </tbody>\n",
       "</table>\n",
       "<p>2 rows × 27 columns</p>\n",
       "</div>"
      ],
      "text/plain": [
       "   index                                 name  \\\n",
       "0      0  New York City - Upper West Side Apt   \n",
       "1      1  Double and triple rooms Blue mosque   \n",
       "\n",
       "                                             transit      property_type  \\\n",
       "0  Conveniently located near 1, 2, 3, B & C subwa...          Apartment   \n",
       "1   Tram 5 minutes  metro 10 minutes  Bus 10 minutes  Bed and breakfast   \n",
       "\n",
       "      room_type  bed_type  minimum_nights  maximum_nights  \\\n",
       "0  Private room  Real Bed              12             360   \n",
       "1  Private room  Real Bed               1            1125   \n",
       "\n",
       "           cancellation_policy calendar_last_scraped  ...  security_deposit  \\\n",
       "0  strict_14_with_grace_period   2019-03-07 05:00:00  ...               0.0   \n",
       "1                     moderate   2019-02-18 05:00:00  ...               0.0   \n",
       "\n",
       "   extra_people  guests_included  \\\n",
       "0             0                1   \n",
       "1             0                1   \n",
       "\n",
       "                                             address  \\\n",
       "0  {'street': 'New York, NY, United States', 'sub...   \n",
       "1  {'street': 'Fatih , İstanbul, Turkey', 'suburb...   \n",
       "\n",
       "                                        availability  \\\n",
       "0  {'availability_30': 0, 'availability_60': 0, '...   \n",
       "1  {'availability_30': 30, 'availability_60': 60,...   \n",
       "\n",
       "                                       review_scores  weekly_price  \\\n",
       "0  {'review_scores_accuracy': 10, 'review_scores_...           NaN   \n",
       "1  {'review_scores_accuracy': 9, 'review_scores_c...           NaN   \n",
       "\n",
       "   monthly_price  reviews_per_month     city1  \n",
       "0            NaN                NaN  New York  \n",
       "1            NaN                NaN     Fatih  \n",
       "\n",
       "[2 rows x 27 columns]"
      ]
     },
     "execution_count": 23,
     "metadata": {},
     "output_type": "execute_result"
    }
   ],
   "source": [
    "df.head(2)"
   ]
  },
  {
   "cell_type": "code",
   "execution_count": 24,
   "id": "a2a25b36",
   "metadata": {},
   "outputs": [],
   "source": [
    "# Extract the 'review_scores_rating' value from the 'review_scores' dictionary and create a new column 'Review Rating'\n",
    "df['Review Rating'] = df['review_scores'].apply(lambda x: x.get('review_scores_rating', None))"
   ]
  },
  {
   "cell_type": "code",
   "execution_count": 27,
   "id": "9d0f092d",
   "metadata": {},
   "outputs": [
    {
     "data": {
      "text/plain": [
       "Index(['index', 'name', 'transit', 'property_type', 'room_type', 'bed_type',\n",
       "       'minimum_nights', 'maximum_nights', 'cancellation_policy',\n",
       "       'calendar_last_scraped', 'accommodates', 'bedrooms', 'beds',\n",
       "       'number_of_reviews', 'bathrooms', 'amenities', 'price',\n",
       "       'security_deposit', 'extra_people', 'guests_included', 'address',\n",
       "       'availability', 'review_scores', 'weekly_price', 'monthly_price',\n",
       "       'reviews_per_month', 'city1', 'Review Rating'],\n",
       "      dtype='object')"
      ]
     },
     "execution_count": 27,
     "metadata": {},
     "output_type": "execute_result"
    }
   ],
   "source": [
    "df.columns"
   ]
  },
  {
   "cell_type": "code",
   "execution_count": 28,
   "id": "fc62e8c7",
   "metadata": {},
   "outputs": [],
   "source": [
    "df.drop(columns=['review_scores'], inplace=True)"
   ]
  },
  {
   "cell_type": "code",
   "execution_count": 29,
   "id": "d59aa79e",
   "metadata": {},
   "outputs": [
    {
     "data": {
      "text/plain": [
       "(5555, 27)"
      ]
     },
     "execution_count": 29,
     "metadata": {},
     "output_type": "execute_result"
    }
   ],
   "source": [
    "df.columns\n",
    "df.shape"
   ]
  },
  {
   "cell_type": "code",
   "execution_count": 30,
   "id": "6c1d5c14",
   "metadata": {},
   "outputs": [],
   "source": [
    "# Extract the 'availability_365' value from the 'availability' dictionary and create a new column 'Availability'\n",
    "df['Availability'] = df['availability'].apply(lambda x: x.get('availability_365', None))"
   ]
  },
  {
   "cell_type": "code",
   "execution_count": 31,
   "id": "1178ca35",
   "metadata": {},
   "outputs": [
    {
     "data": {
      "text/plain": [
       "Index(['index', 'name', 'transit', 'property_type', 'room_type', 'bed_type',\n",
       "       'minimum_nights', 'maximum_nights', 'cancellation_policy',\n",
       "       'calendar_last_scraped', 'accommodates', 'bedrooms', 'beds',\n",
       "       'number_of_reviews', 'bathrooms', 'amenities', 'price',\n",
       "       'security_deposit', 'extra_people', 'guests_included', 'address',\n",
       "       'availability', 'weekly_price', 'monthly_price', 'reviews_per_month',\n",
       "       'city1', 'Review Rating', 'Availability'],\n",
       "      dtype='object')"
      ]
     },
     "execution_count": 31,
     "metadata": {},
     "output_type": "execute_result"
    }
   ],
   "source": [
    "df.columns"
   ]
  },
  {
   "cell_type": "code",
   "execution_count": 32,
   "id": "9f7de047",
   "metadata": {},
   "outputs": [
    {
     "data": {
      "text/plain": [
       "(5555, 28)"
      ]
     },
     "execution_count": 32,
     "metadata": {},
     "output_type": "execute_result"
    }
   ],
   "source": [
    "df.shape"
   ]
  },
  {
   "cell_type": "code",
   "execution_count": 33,
   "id": "2b18532f",
   "metadata": {},
   "outputs": [],
   "source": [
    "def format_address(address_dict):\n",
    "    try:\n",
    "        # Access the dictionary elements directly\n",
    "        return (f\"Street: {address_dict['street']}, Suburb: {address_dict['suburb']}, \"\n",
    "                f\"Government Area: {address_dict['government_area']}, Market: {address_dict['market']}, \"\n",
    "                f\"Country: {address_dict['country']}, Country Code: {address_dict['country_code']}, \"\n",
    "                f\"Location Type: {address_dict['location']['type']}, Coordinates: {address_dict['location']['coordinates']}, \"\n",
    "                f\"Exact: {address_dict['location']['is_location_exact']}\")\n",
    "    except (KeyError, TypeError) as e:\n",
    "        return f\"Error processing address: {e}\"\n",
    "\n",
    "# Assuming your DataFrame is named 'ndf'\n",
    "# Apply formatting function to the 'address' column\n",
    "df['formatted_address'] = df['address'].apply(format_address)\n",
    "\n",
    "# Save the result to a new CSV file\n",
    "df.to_csv('formatted_addresses.csv', columns=['formatted_address'], index=False)"
   ]
  },
  {
   "cell_type": "code",
   "execution_count": 34,
   "id": "d276bbe3",
   "metadata": {},
   "outputs": [],
   "source": [
    "df.drop(columns=['address'], inplace=True)"
   ]
  },
  {
   "cell_type": "code",
   "execution_count": 35,
   "id": "a903afd2",
   "metadata": {},
   "outputs": [
    {
     "data": {
      "text/plain": [
       "(5555, 28)"
      ]
     },
     "execution_count": 35,
     "metadata": {},
     "output_type": "execute_result"
    }
   ],
   "source": [
    "df.shape"
   ]
  },
  {
   "cell_type": "code",
   "execution_count": 36,
   "id": "c82c4ba1",
   "metadata": {},
   "outputs": [
    {
     "data": {
      "text/plain": [
       "Index(['index', 'name', 'transit', 'property_type', 'room_type', 'bed_type',\n",
       "       'minimum_nights', 'maximum_nights', 'cancellation_policy',\n",
       "       'calendar_last_scraped', 'accommodates', 'bedrooms', 'beds',\n",
       "       'number_of_reviews', 'bathrooms', 'amenities', 'price',\n",
       "       'security_deposit', 'extra_people', 'guests_included', 'availability',\n",
       "       'weekly_price', 'monthly_price', 'reviews_per_month', 'city1',\n",
       "       'Review Rating', 'Availability', 'formatted_address'],\n",
       "      dtype='object')"
      ]
     },
     "execution_count": 36,
     "metadata": {},
     "output_type": "execute_result"
    }
   ],
   "source": [
    "df.columns"
   ]
  },
  {
   "cell_type": "code",
   "execution_count": 37,
   "id": "e754458a",
   "metadata": {},
   "outputs": [
    {
     "name": "stdout",
     "output_type": "stream",
     "text": [
      "Column exists.\n"
     ]
    }
   ],
   "source": [
    "if 'formatted_address' in df.columns:\n",
    "    print(\"Column exists.\")\n",
    "else:\n",
    "    print(\"Column does not exist.\")"
   ]
  },
  {
   "cell_type": "code",
   "execution_count": 38,
   "id": "6eebca38",
   "metadata": {},
   "outputs": [
    {
     "ename": "KeyError",
     "evalue": "'address'",
     "output_type": "error",
     "traceback": [
      "\u001b[1;31m---------------------------------------------------------------------------\u001b[0m",
      "\u001b[1;31mKeyError\u001b[0m                                  Traceback (most recent call last)",
      "File \u001b[1;32m~\\anaconda3\\Lib\\site-packages\\pandas\\core\\indexes\\base.py:3802\u001b[0m, in \u001b[0;36mIndex.get_loc\u001b[1;34m(self, key, method, tolerance)\u001b[0m\n\u001b[0;32m   3801\u001b[0m \u001b[38;5;28;01mtry\u001b[39;00m:\n\u001b[1;32m-> 3802\u001b[0m     \u001b[38;5;28;01mreturn\u001b[39;00m \u001b[38;5;28mself\u001b[39m\u001b[38;5;241m.\u001b[39m_engine\u001b[38;5;241m.\u001b[39mget_loc(casted_key)\n\u001b[0;32m   3803\u001b[0m \u001b[38;5;28;01mexcept\u001b[39;00m \u001b[38;5;167;01mKeyError\u001b[39;00m \u001b[38;5;28;01mas\u001b[39;00m err:\n",
      "File \u001b[1;32m~\\anaconda3\\Lib\\site-packages\\pandas\\_libs\\index.pyx:138\u001b[0m, in \u001b[0;36mpandas._libs.index.IndexEngine.get_loc\u001b[1;34m()\u001b[0m\n",
      "File \u001b[1;32m~\\anaconda3\\Lib\\site-packages\\pandas\\_libs\\index.pyx:165\u001b[0m, in \u001b[0;36mpandas._libs.index.IndexEngine.get_loc\u001b[1;34m()\u001b[0m\n",
      "File \u001b[1;32mpandas\\_libs\\hashtable_class_helper.pxi:5745\u001b[0m, in \u001b[0;36mpandas._libs.hashtable.PyObjectHashTable.get_item\u001b[1;34m()\u001b[0m\n",
      "File \u001b[1;32mpandas\\_libs\\hashtable_class_helper.pxi:5753\u001b[0m, in \u001b[0;36mpandas._libs.hashtable.PyObjectHashTable.get_item\u001b[1;34m()\u001b[0m\n",
      "\u001b[1;31mKeyError\u001b[0m: 'address'",
      "\nThe above exception was the direct cause of the following exception:\n",
      "\u001b[1;31mKeyError\u001b[0m                                  Traceback (most recent call last)",
      "Cell \u001b[1;32mIn[38], line 16\u001b[0m\n\u001b[0;32m     13\u001b[0m     \u001b[38;5;28;01mreturn\u001b[39;00m formatted_address\u001b[38;5;241m.\u001b[39mstrip(\u001b[38;5;124m'\u001b[39m\u001b[38;5;124m, \u001b[39m\u001b[38;5;124m'\u001b[39m)\n\u001b[0;32m     15\u001b[0m \u001b[38;5;66;03m# Apply the function to create a new 'addrss_new' column\u001b[39;00m\n\u001b[1;32m---> 16\u001b[0m df[\u001b[38;5;124m'\u001b[39m\u001b[38;5;124maddrss_new\u001b[39m\u001b[38;5;124m'\u001b[39m] \u001b[38;5;241m=\u001b[39m df[\u001b[38;5;124m'\u001b[39m\u001b[38;5;124maddress\u001b[39m\u001b[38;5;124m'\u001b[39m]\u001b[38;5;241m.\u001b[39mapply(format_address)\n",
      "File \u001b[1;32m~\\anaconda3\\Lib\\site-packages\\pandas\\core\\frame.py:3807\u001b[0m, in \u001b[0;36mDataFrame.__getitem__\u001b[1;34m(self, key)\u001b[0m\n\u001b[0;32m   3805\u001b[0m \u001b[38;5;28;01mif\u001b[39;00m \u001b[38;5;28mself\u001b[39m\u001b[38;5;241m.\u001b[39mcolumns\u001b[38;5;241m.\u001b[39mnlevels \u001b[38;5;241m>\u001b[39m \u001b[38;5;241m1\u001b[39m:\n\u001b[0;32m   3806\u001b[0m     \u001b[38;5;28;01mreturn\u001b[39;00m \u001b[38;5;28mself\u001b[39m\u001b[38;5;241m.\u001b[39m_getitem_multilevel(key)\n\u001b[1;32m-> 3807\u001b[0m indexer \u001b[38;5;241m=\u001b[39m \u001b[38;5;28mself\u001b[39m\u001b[38;5;241m.\u001b[39mcolumns\u001b[38;5;241m.\u001b[39mget_loc(key)\n\u001b[0;32m   3808\u001b[0m \u001b[38;5;28;01mif\u001b[39;00m is_integer(indexer):\n\u001b[0;32m   3809\u001b[0m     indexer \u001b[38;5;241m=\u001b[39m [indexer]\n",
      "File \u001b[1;32m~\\anaconda3\\Lib\\site-packages\\pandas\\core\\indexes\\base.py:3804\u001b[0m, in \u001b[0;36mIndex.get_loc\u001b[1;34m(self, key, method, tolerance)\u001b[0m\n\u001b[0;32m   3802\u001b[0m     \u001b[38;5;28;01mreturn\u001b[39;00m \u001b[38;5;28mself\u001b[39m\u001b[38;5;241m.\u001b[39m_engine\u001b[38;5;241m.\u001b[39mget_loc(casted_key)\n\u001b[0;32m   3803\u001b[0m \u001b[38;5;28;01mexcept\u001b[39;00m \u001b[38;5;167;01mKeyError\u001b[39;00m \u001b[38;5;28;01mas\u001b[39;00m err:\n\u001b[1;32m-> 3804\u001b[0m     \u001b[38;5;28;01mraise\u001b[39;00m \u001b[38;5;167;01mKeyError\u001b[39;00m(key) \u001b[38;5;28;01mfrom\u001b[39;00m \u001b[38;5;21;01merr\u001b[39;00m\n\u001b[0;32m   3805\u001b[0m \u001b[38;5;28;01mexcept\u001b[39;00m \u001b[38;5;167;01mTypeError\u001b[39;00m:\n\u001b[0;32m   3806\u001b[0m     \u001b[38;5;66;03m# If we have a listlike key, _check_indexing_error will raise\u001b[39;00m\n\u001b[0;32m   3807\u001b[0m     \u001b[38;5;66;03m#  InvalidIndexError. Otherwise we fall through and re-raise\u001b[39;00m\n\u001b[0;32m   3808\u001b[0m     \u001b[38;5;66;03m#  the TypeError.\u001b[39;00m\n\u001b[0;32m   3809\u001b[0m     \u001b[38;5;28mself\u001b[39m\u001b[38;5;241m.\u001b[39m_check_indexing_error(key)\n",
      "\u001b[1;31mKeyError\u001b[0m: 'address'"
     ]
    }
   ],
   "source": [
    "def format_address(address):\n",
    "    # Extract parts from the address dictionary\n",
    "    street = address.get('street', '')\n",
    "    suburb = address.get('suburb', '')\n",
    "    government_area = address.get('government_area', '')\n",
    "    market = address.get('market', '')\n",
    "    country = address.get('country', '')\n",
    "    country_code = address.get('country_code', '')\n",
    "\n",
    "    # Construct the formatted address\n",
    "    formatted_address = f\"{street}, {suburb}, {government_area}, {market}, {country}, {country_code}\"\n",
    "\n",
    "    return formatted_address.strip(', ')\n",
    "\n",
    "# Apply the function to create a new 'addrss_new' column\n",
    "df['addrss_new'] = df['address'].apply(format_address)"
   ]
  },
  {
   "cell_type": "code",
   "execution_count": 39,
   "id": "1369dfed",
   "metadata": {},
   "outputs": [],
   "source": [
    "# Define a function to extract 'availability_365' from the dictionary\n",
    "def extract_availability_365(availability_dict):\n",
    "    return availability_dict.get('availability_365', np.nan)\n",
    "\n",
    "# Apply the function to create a new 'availability_365' column\n",
    "df['availability_365'] = df['availability'].apply(extract_availability_365)\n",
    "\n",
    "# Drop the old 'availability' column if desired\n",
    "df.drop(columns=['availability'], inplace=True)"
   ]
  },
  {
   "cell_type": "code",
   "execution_count": 40,
   "id": "50777eb4",
   "metadata": {},
   "outputs": [],
   "source": [
    "df.drop(columns=['Availability','bed_type'],axis=1, inplace=True)"
   ]
  },
  {
   "cell_type": "code",
   "execution_count": 41,
   "id": "e9f55006",
   "metadata": {},
   "outputs": [],
   "source": [
    "df.drop(columns=['reviews_per_month'],axis=1, inplace=True)\n"
   ]
  },
  {
   "cell_type": "code",
   "execution_count": 86,
   "id": "72b353bc",
   "metadata": {},
   "outputs": [
    {
     "data": {
      "text/plain": [
       "index                       0\n",
       "name                        0\n",
       "transit                     0\n",
       "property_type               0\n",
       "room_type                   0\n",
       "minimum_nights              0\n",
       "maximum_nights              0\n",
       "cancellation_policy         0\n",
       "calendar_last_scraped       0\n",
       "accommodates                0\n",
       "bedrooms                    0\n",
       "beds                        0\n",
       "number_of_reviews           0\n",
       "bathrooms                   0\n",
       "amenities                   0\n",
       "price                       0\n",
       "security_deposit            0\n",
       "extra_people                0\n",
       "guests_included             0\n",
       "weekly_price             4841\n",
       "monthly_price            4899\n",
       "city1                       0\n",
       "Review Rating            1474\n",
       "formatted_address           0\n",
       "availability_365            0\n",
       "dtype: int64"
      ]
     },
     "execution_count": 86,
     "metadata": {},
     "output_type": "execute_result"
    }
   ],
   "source": [
    "df.isnull().sum()"
   ]
  },
  {
   "cell_type": "code",
   "execution_count": null,
   "id": "dd2de3fe",
   "metadata": {},
   "outputs": [],
   "source": []
  },
  {
   "cell_type": "code",
   "execution_count": 42,
   "id": "119efa90",
   "metadata": {},
   "outputs": [],
   "source": [
    "df['weekly_price'].fillna(df['weekly_price'].mean(), inplace=True)\n",
    "df['monthly_price'].fillna(df['monthly_price'].mean(), inplace=True)\n",
    "df['Review Rating'].fillna(df['Review Rating'].mean(), inplace=True)"
   ]
  },
  {
   "cell_type": "code",
   "execution_count": 88,
   "id": "3219684b",
   "metadata": {},
   "outputs": [
    {
     "name": "stdout",
     "output_type": "stream",
     "text": [
      "<class 'pandas.core.frame.DataFrame'>\n",
      "RangeIndex: 5555 entries, 0 to 5554\n",
      "Data columns (total 25 columns):\n",
      " #   Column                 Non-Null Count  Dtype  \n",
      "---  ------                 --------------  -----  \n",
      " 0   index                  5555 non-null   int64  \n",
      " 1   name                   5555 non-null   object \n",
      " 2   transit                5555 non-null   object \n",
      " 3   property_type          5555 non-null   object \n",
      " 4   room_type              5555 non-null   object \n",
      " 5   minimum_nights         5555 non-null   int64  \n",
      " 6   maximum_nights         5555 non-null   int64  \n",
      " 7   cancellation_policy    5555 non-null   object \n",
      " 8   calendar_last_scraped  5555 non-null   object \n",
      " 9   accommodates           5555 non-null   int64  \n",
      " 10  bedrooms               5555 non-null   int32  \n",
      " 11  beds                   5555 non-null   int32  \n",
      " 12  number_of_reviews      5555 non-null   int64  \n",
      " 13  bathrooms              5555 non-null   int32  \n",
      " 14  amenities              5555 non-null   object \n",
      " 15  price                  5555 non-null   int64  \n",
      " 16  security_deposit       5555 non-null   float64\n",
      " 17  extra_people           5555 non-null   int64  \n",
      " 18  guests_included        5555 non-null   int64  \n",
      " 19  weekly_price           5555 non-null   float64\n",
      " 20  monthly_price          5555 non-null   float64\n",
      " 21  city1                  5555 non-null   object \n",
      " 22  Review Rating          5555 non-null   float64\n",
      " 23  formatted_address      5555 non-null   object \n",
      " 24  availability_365       5555 non-null   int64  \n",
      "dtypes: float64(4), int32(3), int64(9), object(9)\n",
      "memory usage: 1020.0+ KB\n"
     ]
    }
   ],
   "source": [
    "df.info()"
   ]
  },
  {
   "cell_type": "code",
   "execution_count": 43,
   "id": "20b22187",
   "metadata": {},
   "outputs": [],
   "source": [
    "df.shape\n",
    "df.columns\n",
    "df.drop(['amenities','transit'],axis=1,inplace=True)\n",
    "# df.drop(['amenities', 'transit'], axis=1, inplace=True)"
   ]
  },
  {
   "cell_type": "code",
   "execution_count": 98,
   "id": "4f952fcc",
   "metadata": {},
   "outputs": [
    {
     "data": {
      "text/plain": [
       "Index(['index', 'name', 'property_type', 'room_type', 'minimum_nights',\n",
       "       'maximum_nights', 'cancellation_policy', 'calendar_last_scraped',\n",
       "       'accommodates', 'bedrooms', 'beds', 'number_of_reviews', 'bathrooms',\n",
       "       'price', 'security_deposit', 'extra_people', 'guests_included',\n",
       "       'weekly_price', 'monthly_price', 'city1', 'Review Rating',\n",
       "       'formatted_address', 'availability_365'],\n",
       "      dtype='object')"
      ]
     },
     "execution_count": 98,
     "metadata": {},
     "output_type": "execute_result"
    }
   ],
   "source": [
    "df.columns"
   ]
  },
  {
   "cell_type": "code",
   "execution_count": 45,
   "id": "9a700149",
   "metadata": {},
   "outputs": [
    {
     "data": {
      "text/plain": [
       "<Axes: xlabel='room_type', ylabel='price'>"
      ]
     },
     "execution_count": 45,
     "metadata": {},
     "output_type": "execute_result"
    },
    {
     "data": {
      "image/png": "[encoded data removed]",
      "text/plain": [
       "<Figure size 640x480 with 1 Axes>"
      ]
     },
     "metadata": {},
     "output_type": "display_data"
    }
   ],
   "source": [
    "sns.boxplot(data=df,x='room_type',y='price')"
   ]
  },
  {
   "cell_type": "code",
   "execution_count": null,
   "id": "526c0203",
   "metadata": {},
   "outputs": [],
   "source": []
  },
  {
   "cell_type": "code",
   "execution_count": null,
   "id": "71991c0f",
   "metadata": {},
   "outputs": [],
   "source": []
  },
  {
   "cell_type": "code",
   "execution_count": 96,
   "id": "ec78b78e",
   "metadata": {},
   "outputs": [
    {
     "data": {
      "text/html": [
       "<div>\n",
       "<style scoped>\n",
       "    .dataframe tbody tr th:only-of-type {\n",
       "        vertical-align: middle;\n",
       "    }\n",
       "\n",
       "    .dataframe tbody tr th {\n",
       "        vertical-align: top;\n",
       "    }\n",
       "\n",
       "    .dataframe thead th {\n",
       "        text-align: right;\n",
       "    }\n",
       "</style>\n",
       "<table border=\"1\" class=\"dataframe\">\n",
       "  <thead>\n",
       "    <tr style=\"text-align: right;\">\n",
       "      <th></th>\n",
       "      <th>index</th>\n",
       "      <th>name</th>\n",
       "      <th>property_type</th>\n",
       "      <th>room_type</th>\n",
       "      <th>minimum_nights</th>\n",
       "      <th>maximum_nights</th>\n",
       "      <th>cancellation_policy</th>\n",
       "      <th>calendar_last_scraped</th>\n",
       "      <th>accommodates</th>\n",
       "      <th>bedrooms</th>\n",
       "      <th>...</th>\n",
       "      <th>price</th>\n",
       "      <th>security_deposit</th>\n",
       "      <th>extra_people</th>\n",
       "      <th>guests_included</th>\n",
       "      <th>weekly_price</th>\n",
       "      <th>monthly_price</th>\n",
       "      <th>city1</th>\n",
       "      <th>Review Rating</th>\n",
       "      <th>formatted_address</th>\n",
       "      <th>availability_365</th>\n",
       "    </tr>\n",
       "  </thead>\n",
       "  <tbody>\n",
       "    <tr>\n",
       "      <th>0</th>\n",
       "      <td>0.0</td>\n",
       "      <td>0.0</td>\n",
       "      <td>0.0</td>\n",
       "      <td>0.0</td>\n",
       "      <td>0.0</td>\n",
       "      <td>0.0</td>\n",
       "      <td>0.0</td>\n",
       "      <td>0.0</td>\n",
       "      <td>0.0</td>\n",
       "      <td>0.0</td>\n",
       "      <td>...</td>\n",
       "      <td>0.0</td>\n",
       "      <td>0.0</td>\n",
       "      <td>0.0</td>\n",
       "      <td>0.0</td>\n",
       "      <td>0.0</td>\n",
       "      <td>0.0</td>\n",
       "      <td>0.0</td>\n",
       "      <td>0.0</td>\n",
       "      <td>0.0</td>\n",
       "      <td>0.0</td>\n",
       "    </tr>\n",
       "  </tbody>\n",
       "</table>\n",
       "<p>1 rows × 23 columns</p>\n",
       "</div>"
      ],
      "text/plain": [
       "   index  name  property_type  room_type  minimum_nights  maximum_nights  \\\n",
       "0    0.0   0.0            0.0        0.0             0.0             0.0   \n",
       "\n",
       "   cancellation_policy  calendar_last_scraped  accommodates  bedrooms  ...  \\\n",
       "0                  0.0                    0.0           0.0       0.0  ...   \n",
       "\n",
       "   price  security_deposit  extra_people  guests_included  weekly_price  \\\n",
       "0    0.0               0.0           0.0              0.0           0.0   \n",
       "\n",
       "   monthly_price  city1  Review Rating  formatted_address  availability_365  \n",
       "0            0.0    0.0            0.0                0.0               0.0  \n",
       "\n",
       "[1 rows x 23 columns]"
      ]
     },
     "execution_count": 96,
     "metadata": {},
     "output_type": "execute_result"
    }
   ],
   "source": [
    "# Checking Percentage of error value\n",
    "pd.DataFrame(df.isna().mean() * 100).T"
   ]
  },
  {
   "cell_type": "code",
   "execution_count": null,
   "id": "d1a30c90",
   "metadata": {},
   "outputs": [],
   "source": []
  },
  {
   "cell_type": "code",
   "execution_count": 2,
   "id": "16b5f812",
   "metadata": {},
   "outputs": [
    {
     "ename": "NameError",
     "evalue": "name 'a' is not defined",
     "output_type": "error",
     "traceback": [
      "\u001b[1;31m---------------------------------------------------------------------------\u001b[0m",
      "\u001b[1;31mNameError\u001b[0m                                 Traceback (most recent call last)",
      "Cell \u001b[1;32mIn[2], line 1\u001b[0m\n\u001b[1;32m----> 1\u001b[0m a\n",
      "\u001b[1;31mNameError\u001b[0m: name 'a' is not defined"
     ]
    }
   ],
   "source": []
  },
  {
   "cell_type": "code",
   "execution_count": null,
   "id": "fdc48ba3",
   "metadata": {},
   "outputs": [],
   "source": [
    "file_path = 'C:\\\\Users\\HP\\OneDrive\\Desktop\\DA\\clean_sample_airbnb.csv'\n",
    "df.to_csv(file_path, index=False)\n",
    "print(f\"DataFrame saved to {file_path}\")"
   ]
  },
  {
   "cell_type": "code",
   "execution_count": null,
   "id": "13650954",
   "metadata": {},
   "outputs": [],
   "source": []
  },
  {
   "cell_type": "code",
   "execution_count": null,
   "id": "47088e6d",
   "metadata": {},
   "outputs": [],
   "source": []
  },
  {
   "cell_type": "code",
   "execution_count": null,
   "id": "2e35dff5",
   "metadata": {},
   "outputs": [],
   "source": []
  }
 ],
 "metadata": {
  "kernelspec": {
   "display_name": "Python 3 (ipykernel)",
   "language": "python",
   "name": "python3"
  },
  "language_info": {
   "codemirror_mode": {
    "name": "ipython",
    "version": 3
   },
   "file_extension": ".py",
   "mimetype": "text/x-python",
   "name": "python",
   "nbconvert_exporter": "python",
   "pygments_lexer": "ipython3",
   "version": "3.11.4"
  }
 },
 "nbformat": 4,
 "nbformat_minor": 5
}
